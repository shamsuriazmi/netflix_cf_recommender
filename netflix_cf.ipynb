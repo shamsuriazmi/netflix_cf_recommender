{
 "cells": [
  {
   "cell_type": "markdown",
   "id": "21a9850b-b4d2-4870-becd-9d1365174204",
   "metadata": {},
   "source": [
    "# The project aims to build recommendation based on CF method."
   ]
  },
  {
   "cell_type": "markdown",
   "id": "c5dbc3a2-f47c-4259-9b40-957de7b283a6",
   "metadata": {},
   "source": [
    "## Project Overview\n",
    "\n",
    "Table of contents:\n",
    "1. Data Loading, Cleaning and Manipulation\n",
    "2. Overview data\n",
    "3. Data mapping\n",
    "4. Recommendation model"
   ]
  },
  {
   "cell_type": "markdown",
   "id": "94c61dd6-bc49-4323-9b51-9315455b281a",
   "metadata": {},
   "source": [
    "### 1. Data Loading , Cleaning and Manipulation"
   ]
  },
  {
   "cell_type": "code",
   "execution_count": 32,
   "id": "21199bcb-eb5a-4147-a4b6-2af0d8adea8f",
   "metadata": {},
   "outputs": [],
   "source": [
    "# Import libraries and packages.\n",
    "\n",
    "import numpy as np\n",
    "import pandas as pd\n",
    "import gc\n",
    "import math\n",
    "import scipy\n",
    "\n",
    "# Import matplotlib.pyplot as plt.\n",
    "\n",
    "import missingno\n",
    "import seaborn as sns\n",
    "import plotly.express as px\n",
    "import matplotlib.pyplot as plt\n",
    "\n",
    "# Warnings ignore for dataset replace and written.\n",
    "\n",
    "import warnings\n",
    "warnings.filterwarnings('ignore')\n",
    "\n",
    "# Recommendations\n",
    "from surprise.model_selection import cross_validate\n",
    "\n",
    "\n",
    "# Load the dataset (download it if needed)\n",
    "#from surprise import Dataset\n",
    "#data = Dataset.load_builtin('ml-100k')\n",
    "\n",
    "# Use the famous SVD algorithm\n",
    "#algo = SVD()\n",
    "\n",
    "# Run 5-fold cross-validation and then print results\n",
    "#cross_validate(algo, data, measures=['RMSE', 'MAE'], cv=5, verbose=True)\n"
   ]
  },
  {
   "cell_type": "code",
   "execution_count": 4,
   "id": "dbe04731-f910-44bf-a465-a58edd19c7e6",
   "metadata": {},
   "outputs": [],
   "source": [
    "# Load the data and view set examples of data\n",
    "df1 = pd.read_csv(\"C:/Users/PC/Downloads/Dataset/netflix dataset/combined_data_1.txt\", \n",
    "                  header = None, \n",
    "                  names = ['Cust_Id' , 'Rating'], \n",
    "                  usecols = [0,1])"
   ]
  },
  {
   "cell_type": "code",
   "execution_count": 5,
   "id": "ec77713c-c062-4dcd-ad4e-abfdfebcc3ab",
   "metadata": {},
   "outputs": [
    {
     "name": "stdout",
     "output_type": "stream",
     "text": [
      "Dataset 1 shape: (24058263, 2)\n",
      "############### Dataset examples ##############\n",
      "\n",
      "          Cust_Id  Rating\n",
      "0              1:     NaN\n",
      "5000000   2560324     4.0\n",
      "10000000  2271935     2.0\n",
      "15000000  1921803     2.0\n",
      "20000000  1933327     3.0\n"
     ]
    }
   ],
   "source": [
    "print('Dataset 1 shape: {}'.format(df1.shape))\n",
    "print('############### Dataset examples ##############\\n')\n",
    "print(df1.iloc[::5000000, :])"
   ]
  },
  {
   "cell_type": "code",
   "execution_count": 6,
   "id": "98053ed3-a2ec-45c8-949d-8dfcd04aa6d1",
   "metadata": {},
   "outputs": [
    {
     "name": "stdout",
     "output_type": "stream",
     "text": [
      "<class 'pandas.core.frame.DataFrame'>\n",
      "RangeIndex: 24058263 entries, 0 to 24058262\n",
      "Data columns (total 2 columns):\n",
      " #   Column   Dtype  \n",
      "---  ------   -----  \n",
      " 0   Cust_Id  object \n",
      " 1   Rating   float64\n",
      "dtypes: float64(1), object(1)\n",
      "memory usage: 367.1+ MB\n"
     ]
    }
   ],
   "source": [
    "# Datatype of df1 \n",
    "df1.info()"
   ]
  },
  {
   "cell_type": "markdown",
   "id": "a3722d3b-f72d-412a-ab58-33622f614abc",
   "metadata": {},
   "source": [
    "Load less data with only df1."
   ]
  },
  {
   "cell_type": "code",
   "execution_count": 7,
   "id": "19434a63-f02f-48ca-9e8f-bd4a8297446f",
   "metadata": {},
   "outputs": [],
   "source": [
    "# Proceed with combining all the df2 , df3 and df4\n",
    "\n",
    "#df2 = pd.read_csv(\"C:/Users/PC/Downloads/Dataset/netflix dataset/combined_data_2.txt\", header = None, names = ['Cust_Id' , 'Rating'], usecols = [0,1])\n",
    "#df3 = pd.read_csv(\"C:/Users/PC/Downloads/Dataset/netflix dataset/combined_data_3.txt\", header = None, names = ['Cust_Id' , 'Rating'], usecols = [0,1])\n",
    "#df4 = pd.read_csv(\"C:/Users/PC/Downloads/Dataset/netflix dataset/combined_data_4.txt\", header = None, names = ['Cust_Id' , 'Rating'], usecols = [0,1])\n",
    "\n",
    "#print('Dataset 2 shape: {}'.format(df2.shape))\n",
    "#print('Dataset 3 shape: {}'.format(df3.shape))\n",
    "#print('Dataset 4 shape: {}'.format(df4.shape))"
   ]
  },
  {
   "cell_type": "code",
   "execution_count": 8,
   "id": "0f5f9d12-1c75-47fb-8e66-c87995a6260a",
   "metadata": {},
   "outputs": [],
   "source": [
    "df = df1\n",
    "#df = df1.append(df2, ignore_index = True)\n",
    "#df = df.append(df3, ignore_index = True)\n",
    "#df = df.append(df4, ignore_index = True)\n",
    "\n",
    "df['Rating'] = df['Rating'].astype(float)\n",
    "\n",
    "\n",
    "# Delete df1,df2,df3,df4 objects to save memory\n",
    "#del df1,df2,df3,df4"
   ]
  },
  {
   "cell_type": "code",
   "execution_count": 9,
   "id": "fecea9e8-d4ef-41f9-845d-0308315dfdbc",
   "metadata": {},
   "outputs": [
    {
     "name": "stdout",
     "output_type": "stream",
     "text": [
      "Dataset Shape:\t(24058263, 2)\n"
     ]
    }
   ],
   "source": [
    "# Dataset Shape\n",
    "print('Dataset Shape:\\t{}'.format(df.shape))"
   ]
  },
  {
   "cell_type": "markdown",
   "id": "232c47d1-b3e7-47d9-8782-2b0b7dc067f1",
   "metadata": {},
   "source": [
    "## 2. Overview data"
   ]
  },
  {
   "cell_type": "code",
   "execution_count": 10,
   "id": "bfedb8e2-d83e-44b4-b9ba-8cd647a2d38e",
   "metadata": {},
   "outputs": [
    {
     "data": {
      "text/html": [
       "<div>\n",
       "<style scoped>\n",
       "    .dataframe tbody tr th:only-of-type {\n",
       "        vertical-align: middle;\n",
       "    }\n",
       "\n",
       "    .dataframe tbody tr th {\n",
       "        vertical-align: top;\n",
       "    }\n",
       "\n",
       "    .dataframe thead th {\n",
       "        text-align: right;\n",
       "    }\n",
       "</style>\n",
       "<table border=\"1\" class=\"dataframe\">\n",
       "  <thead>\n",
       "    <tr style=\"text-align: right;\">\n",
       "      <th></th>\n",
       "      <th>Cust_Id</th>\n",
       "      <th>Rating</th>\n",
       "    </tr>\n",
       "  </thead>\n",
       "  <tbody>\n",
       "    <tr>\n",
       "      <th>0</th>\n",
       "      <td>1:</td>\n",
       "      <td>NaN</td>\n",
       "    </tr>\n",
       "    <tr>\n",
       "      <th>1</th>\n",
       "      <td>1488844</td>\n",
       "      <td>3.0</td>\n",
       "    </tr>\n",
       "    <tr>\n",
       "      <th>2</th>\n",
       "      <td>822109</td>\n",
       "      <td>5.0</td>\n",
       "    </tr>\n",
       "    <tr>\n",
       "      <th>3</th>\n",
       "      <td>885013</td>\n",
       "      <td>4.0</td>\n",
       "    </tr>\n",
       "    <tr>\n",
       "      <th>4</th>\n",
       "      <td>30878</td>\n",
       "      <td>4.0</td>\n",
       "    </tr>\n",
       "  </tbody>\n",
       "</table>\n",
       "</div>"
      ],
      "text/plain": [
       "   Cust_Id  Rating\n",
       "0       1:     NaN\n",
       "1  1488844     3.0\n",
       "2   822109     5.0\n",
       "3   885013     4.0\n",
       "4    30878     4.0"
      ]
     },
     "execution_count": 10,
     "metadata": {},
     "output_type": "execute_result"
    }
   ],
   "source": [
    "df.head()"
   ]
  },
  {
   "cell_type": "code",
   "execution_count": 11,
   "id": "9c795ae5-257b-4b61-9231-f796971aeb4d",
   "metadata": {},
   "outputs": [
    {
     "name": "stdout",
     "output_type": "stream",
     "text": [
      "Number of NaN values (NaN Value in Rating = MoviesID) :\n",
      "Cust_Id       0\n",
      "Rating     4499\n",
      "dtype: int64\n"
     ]
    }
   ],
   "source": [
    "# Checking for total Movies and NaN values\n",
    "print(\"Number of NaN values (NaN Value in Rating = MoviesID) :\\n\"+str(df.isnull().sum()))"
   ]
  },
  {
   "cell_type": "markdown",
   "id": "ab6d2fea-e3d8-48e3-8254-e28ac57ff63b",
   "metadata": {},
   "source": [
    "From above info we know there is 4499 movies included in the raw text file."
   ]
  },
  {
   "cell_type": "code",
   "execution_count": 12,
   "id": "a1cf5700-2352-44a3-bc64-0959bfae3a75",
   "metadata": {},
   "outputs": [
    {
     "name": "stdout",
     "output_type": "stream",
     "text": [
      "Movie numpy: [1.000e+00 1.000e+00 1.000e+00 ... 4.499e+03 4.499e+03 4.499e+03]\n",
      "Length: 24053764\n"
     ]
    }
   ],
   "source": [
    "# creating a numpy array with correct length then add the whole array as column into the main dataframe for MoviesID columnd\n",
    "df_nan = pd.DataFrame(pd.isnull(df.Rating))\n",
    "df_nan = df_nan[df_nan['Rating'] == True]\n",
    "df_nan = df_nan.reset_index()\n",
    "\n",
    "movie_np = []\n",
    "movie_id = 1\n",
    "\n",
    "for i,j in zip(df_nan['index'][1:],df_nan['index'][:-1]):\n",
    "    # numpy approach\n",
    "    temp = np.full((1,i-j-1), movie_id)\n",
    "    movie_np = np.append(movie_np, temp)\n",
    "    movie_id += 1\n",
    "\n",
    "# Account for last record and corresponding length\n",
    "# numpy approach\n",
    "last_record = np.full((1,len(df) - df_nan.iloc[-1, 0] - 1),movie_id)\n",
    "movie_np = np.append(movie_np, last_record)\n",
    "\n",
    "print('Movie numpy: {}'.format(movie_np))\n",
    "print('Length: {}'.format(len(movie_np)))"
   ]
  },
  {
   "cell_type": "code",
   "execution_count": 13,
   "id": "19b27ef7-9c28-4149-a0dc-40223383383a",
   "metadata": {},
   "outputs": [
    {
     "name": "stdout",
     "output_type": "stream",
     "text": [
      "-Dataset examples-\n",
      "          Cust_Id  Rating  Movie_Id\n",
      "1         1488844     3.0         1\n",
      "5000996    501954     2.0       996\n",
      "10001962   404654     5.0      1962\n",
      "15002876   886608     2.0      2876\n",
      "20003825  1193835     2.0      3825\n"
     ]
    }
   ],
   "source": [
    "# remove those Movie ID rows\n",
    "df = df[pd.notnull(df['Rating'])]\n",
    "\n",
    "df['Movie_Id'] = movie_np.astype(int)\n",
    "df['Cust_Id'] = df['Cust_Id'].astype(int)\n",
    "print('-Dataset examples-')\n",
    "print(df.iloc[::5000000, :])"
   ]
  },
  {
   "cell_type": "code",
   "execution_count": 14,
   "id": "d1d86b14-877f-46a2-8a53-1afcfb7cf11d",
   "metadata": {},
   "outputs": [
    {
     "name": "stdout",
     "output_type": "stream",
     "text": [
      "<class 'pandas.core.frame.DataFrame'>\n",
      "Int64Index: 24053764 entries, 1 to 24058262\n",
      "Data columns (total 3 columns):\n",
      " #   Column    Dtype  \n",
      "---  ------    -----  \n",
      " 0   Cust_Id   int32  \n",
      " 1   Rating    float64\n",
      " 2   Movie_Id  int32  \n",
      "dtypes: float64(1), int32(2)\n",
      "memory usage: 550.5 MB\n",
      "None\n"
     ]
    }
   ],
   "source": [
    "print(df.info())"
   ]
  },
  {
   "cell_type": "markdown",
   "id": "458f3708-1dad-4ad0-b905-e5b15ea4eb7a",
   "metadata": {},
   "source": [
    "## 3. Data mapping"
   ]
  },
  {
   "cell_type": "code",
   "execution_count": 23,
   "id": "f2ccce41-bb0a-475b-ba71-46d833c0ab33",
   "metadata": {},
   "outputs": [
    {
     "name": "stdout",
     "output_type": "stream",
     "text": [
      "            Year                          Name\n",
      "Movie_Id                                      \n",
      "1         2003.0               Dinosaur Planet\n",
      "2         2004.0    Isle of Man TT 2004 Review\n",
      "3         1997.0                     Character\n",
      "4         1994.0  Paula Abdul's Get Up & Dance\n",
      "5         2004.0      The Rise and Fall of ECW\n",
      "6         1997.0                          Sick\n",
      "7         1992.0                         8 Man\n",
      "8         2004.0    What the #$*! Do We Know!?\n",
      "9         1991.0      Class of Nuke 'Em High 2\n",
      "10        2001.0                       Fighter\n"
     ]
    }
   ],
   "source": [
    "df_title = pd.read_csv('C:/Users/PC/Downloads/Dataset/netflix dataset/movie_titles.csv', encoding = \"ISO-8859-1\", header = None, names = ['Movie_Id', 'Year', 'Name'])\n",
    "df_title.set_index('Movie_Id', inplace = True)\n",
    "print (df_title.head(10))"
   ]
  },
  {
   "cell_type": "markdown",
   "id": "bc5158a2-01d9-4222-b5e9-23b9dcf3c706",
   "metadata": {},
   "source": [
    "Now the data is clean and ready for recommendation purposes.\n",
    "\n",
    "Limition on data quality in prior cleaning:\n",
    "1. No data slicing which for any outliers in rating or user.\n",
    "2. Skipped visualization causing any selected features may overfit or underfit.\n",
    "\n",
    "How to improve quality :\n",
    "1. Remove movie with less reviews\n",
    "2. Remove customer who gives too less reviews."
   ]
  },
  {
   "cell_type": "markdown",
   "id": "ffd14df5-c215-4509-90b3-3c048a80e221",
   "metadata": {},
   "source": [
    "## 4. Recommend with CF method"
   ]
  },
  {
   "cell_type": "code",
   "execution_count": 31,
   "id": "9a17b4a4-81e1-4286-94fc-2c4aae020cb2",
   "metadata": {},
   "outputs": [
    {
     "name": "stdout",
     "output_type": "stream",
     "text": [
      "Evaluating RMSE, MAE of algorithm SVD on 5 split(s).\n",
      "\n",
      "                  Fold 1  Fold 2  Fold 3  Fold 4  Fold 5  Mean    Std     \n",
      "RMSE (testset)    1.0470  1.0507  1.0494  1.0518  1.0538  1.0505  0.0023  \n",
      "MAE (testset)     0.8401  0.8432  0.8378  0.8358  0.8311  0.8376  0.0041  \n",
      "Fit time          3.28    3.31    3.35    3.35    3.36    3.33    0.03    \n",
      "Test time         0.15    0.08    0.08    0.08    0.08    0.10    0.03    \n"
     ]
    },
    {
     "data": {
      "text/plain": [
       "{'test_rmse': array([1.0469793 , 1.05067979, 1.04943131, 1.05178534, 1.05376989]),\n",
       " 'test_mae': array([0.84006676, 0.8432026 , 0.83775227, 0.83576443, 0.83112553]),\n",
       " 'fit_time': (3.2800793647766113,\n",
       "  3.3087587356567383,\n",
       "  3.352403163909912,\n",
       "  3.3533456325531006,\n",
       "  3.357743263244629),\n",
       " 'test_time': (0.14813542366027832,\n",
       "  0.08007264137268066,\n",
       "  0.08307576179504395,\n",
       "  0.08100128173828125,\n",
       "  0.08307528495788574)}"
      ]
     },
     "execution_count": 31,
     "metadata": {},
     "output_type": "execute_result"
    }
   ],
   "source": [
    "from surprise import Reader, Dataset, SVD\n",
    "reader = Reader()\n",
    "\n",
    "# get just top 100K rows for faster run time\n",
    "data = Dataset.load_from_df(df[['Cust_Id', 'Movie_Id', 'Rating']][:100000], reader)\n",
    "svd = SVD()\n",
    "cross_validate(svd, data, measures=['RMSE', 'MAE'], cv=5, verbose=True)"
   ]
  }
 ],
 "metadata": {
  "kernelspec": {
   "display_name": "Python 3 (ipykernel)",
   "language": "python",
   "name": "python3"
  },
  "language_info": {
   "codemirror_mode": {
    "name": "ipython",
    "version": 3
   },
   "file_extension": ".py",
   "mimetype": "text/x-python",
   "name": "python",
   "nbconvert_exporter": "python",
   "pygments_lexer": "ipython3",
   "version": "3.9.7"
  },
  "toc-autonumbering": false,
  "toc-showmarkdowntxt": false
 },
 "nbformat": 4,
 "nbformat_minor": 5
}
